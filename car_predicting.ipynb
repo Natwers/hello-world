{
 "cells": [
  {
   "cell_type": "markdown",
   "metadata": {
    "collapsed": true
   },
   "source": [
    "# Predict a car's marker price"
   ]
  },
  {
   "cell_type": "markdown",
   "metadata": {},
   "source": [
    "## Inroduction"
   ]
  },
  {
   "cell_type": "markdown",
   "metadata": {},
   "source": [
    "We'll practice the machine learning workflow. The data set we'll be working with contains information on various cars. Dataset's documentation is [here](https://archive.ics.uci.edu/ml/datasets/automobile)."
   ]
  },
  {
   "cell_type": "code",
   "execution_count": 2,
   "metadata": {
    "collapsed": false
   },
   "outputs": [],
   "source": [
    "import pandas as pd\n",
    "import numpy as np\n",
    "import matplotlib.pyplot as plt\n",
    "from sklearn.neighbors import KNeighborsRegressor\n",
    "from sklearn.metrics import mean_squared_error"
   ]
  },
  {
   "cell_type": "code",
   "execution_count": 3,
   "metadata": {
    "collapsed": true
   },
   "outputs": [],
   "source": [
    "#Set the value of the specified option of Pandas\n",
    "pd.set_option('display.max_columns', 26)"
   ]
  },
  {
   "cell_type": "markdown",
   "metadata": {},
   "source": [
    "We'll read file 'imports-85.data' into a dataframe named `cars`."
   ]
  },
  {
   "cell_type": "code",
   "execution_count": 4,
   "metadata": {
    "collapsed": false
   },
   "outputs": [],
   "source": [
    "name_column = ['symb','normalized-losses', 'name_car', 'fuel', 'aspiration', 'num-of-doors', 'body-style', 'drive-wheels', 'engine-location',\n",
    "               'wheel-base', 'length', 'width', 'height', 'curb-weight', 'engine-type', 'num-of-cylinders', 'engine-size',\n",
    "              'fuel-system', 'bore', 'stroke', 'compression-ratio', 'horsepower', 'peak-rpm', 'city-mpg', 'highway-mpg',\n",
    "              'price']\n",
    "cars = pd.read_csv('imports-85.data', header=0, names = name_column)"
   ]
  },
  {
   "cell_type": "code",
   "execution_count": 5,
   "metadata": {
    "collapsed": false
   },
   "outputs": [
    {
     "name": "stdout",
     "output_type": "stream",
     "text": [
      "<class 'pandas.core.frame.DataFrame'>\n",
      "RangeIndex: 204 entries, 0 to 203\n",
      "Data columns (total 26 columns):\n",
      "symb                 204 non-null int64\n",
      "normalized-losses    204 non-null object\n",
      "name_car             204 non-null object\n",
      "fuel                 204 non-null object\n",
      "aspiration           204 non-null object\n",
      "num-of-doors         204 non-null object\n",
      "body-style           204 non-null object\n",
      "drive-wheels         204 non-null object\n",
      "engine-location      204 non-null object\n",
      "wheel-base           204 non-null float64\n",
      "length               204 non-null float64\n",
      "width                204 non-null float64\n",
      "height               204 non-null float64\n",
      "curb-weight          204 non-null int64\n",
      "engine-type          204 non-null object\n",
      "num-of-cylinders     204 non-null object\n",
      "engine-size          204 non-null int64\n",
      "fuel-system          204 non-null object\n",
      "bore                 204 non-null object\n",
      "stroke               204 non-null object\n",
      "compression-ratio    204 non-null float64\n",
      "horsepower           204 non-null object\n",
      "peak-rpm             204 non-null object\n",
      "city-mpg             204 non-null int64\n",
      "highway-mpg          204 non-null int64\n",
      "price                204 non-null object\n",
      "dtypes: float64(5), int64(5), object(16)\n",
      "memory usage: 41.5+ KB\n"
     ]
    }
   ],
   "source": [
    "cars.info()"
   ]
  },
  {
   "cell_type": "markdown",
   "metadata": {},
   "source": [
    "The following columns are numeric and can be used as features: *normalized-losses, wheel-base, lenght, width, height, curb-weight, engine-size, bore, stroke, compression-ratio, horsepower, peak-rpm, city-mpg, highway-mpg*. The target column is *price*. "
   ]
  },
  {
   "cell_type": "code",
   "execution_count": 6,
   "metadata": {
    "collapsed": false
   },
   "outputs": [
    {
     "data": {
      "text/html": [
       "<div>\n",
       "<style scoped>\n",
       "    .dataframe tbody tr th:only-of-type {\n",
       "        vertical-align: middle;\n",
       "    }\n",
       "\n",
       "    .dataframe tbody tr th {\n",
       "        vertical-align: top;\n",
       "    }\n",
       "\n",
       "    .dataframe thead th {\n",
       "        text-align: right;\n",
       "    }\n",
       "</style>\n",
       "<table border=\"1\" class=\"dataframe\">\n",
       "  <thead>\n",
       "    <tr style=\"text-align: right;\">\n",
       "      <th></th>\n",
       "      <th>symb</th>\n",
       "      <th>normalized-losses</th>\n",
       "      <th>name_car</th>\n",
       "      <th>fuel</th>\n",
       "      <th>aspiration</th>\n",
       "      <th>num-of-doors</th>\n",
       "      <th>body-style</th>\n",
       "      <th>drive-wheels</th>\n",
       "      <th>engine-location</th>\n",
       "      <th>wheel-base</th>\n",
       "      <th>length</th>\n",
       "      <th>width</th>\n",
       "      <th>height</th>\n",
       "      <th>curb-weight</th>\n",
       "      <th>engine-type</th>\n",
       "      <th>num-of-cylinders</th>\n",
       "      <th>engine-size</th>\n",
       "      <th>fuel-system</th>\n",
       "      <th>bore</th>\n",
       "      <th>stroke</th>\n",
       "      <th>compression-ratio</th>\n",
       "      <th>horsepower</th>\n",
       "      <th>peak-rpm</th>\n",
       "      <th>city-mpg</th>\n",
       "      <th>highway-mpg</th>\n",
       "      <th>price</th>\n",
       "    </tr>\n",
       "  </thead>\n",
       "  <tbody>\n",
       "    <tr>\n",
       "      <th>0</th>\n",
       "      <td>3</td>\n",
       "      <td>?</td>\n",
       "      <td>alfa-romero</td>\n",
       "      <td>gas</td>\n",
       "      <td>std</td>\n",
       "      <td>two</td>\n",
       "      <td>convertible</td>\n",
       "      <td>rwd</td>\n",
       "      <td>front</td>\n",
       "      <td>88.6</td>\n",
       "      <td>168.8</td>\n",
       "      <td>64.1</td>\n",
       "      <td>48.8</td>\n",
       "      <td>2548</td>\n",
       "      <td>dohc</td>\n",
       "      <td>four</td>\n",
       "      <td>130</td>\n",
       "      <td>mpfi</td>\n",
       "      <td>3.47</td>\n",
       "      <td>2.68</td>\n",
       "      <td>9.0</td>\n",
       "      <td>111</td>\n",
       "      <td>5000</td>\n",
       "      <td>21</td>\n",
       "      <td>27</td>\n",
       "      <td>16500</td>\n",
       "    </tr>\n",
       "    <tr>\n",
       "      <th>1</th>\n",
       "      <td>1</td>\n",
       "      <td>?</td>\n",
       "      <td>alfa-romero</td>\n",
       "      <td>gas</td>\n",
       "      <td>std</td>\n",
       "      <td>two</td>\n",
       "      <td>hatchback</td>\n",
       "      <td>rwd</td>\n",
       "      <td>front</td>\n",
       "      <td>94.5</td>\n",
       "      <td>171.2</td>\n",
       "      <td>65.5</td>\n",
       "      <td>52.4</td>\n",
       "      <td>2823</td>\n",
       "      <td>ohcv</td>\n",
       "      <td>six</td>\n",
       "      <td>152</td>\n",
       "      <td>mpfi</td>\n",
       "      <td>2.68</td>\n",
       "      <td>3.47</td>\n",
       "      <td>9.0</td>\n",
       "      <td>154</td>\n",
       "      <td>5000</td>\n",
       "      <td>19</td>\n",
       "      <td>26</td>\n",
       "      <td>16500</td>\n",
       "    </tr>\n",
       "    <tr>\n",
       "      <th>2</th>\n",
       "      <td>2</td>\n",
       "      <td>164</td>\n",
       "      <td>audi</td>\n",
       "      <td>gas</td>\n",
       "      <td>std</td>\n",
       "      <td>four</td>\n",
       "      <td>sedan</td>\n",
       "      <td>fwd</td>\n",
       "      <td>front</td>\n",
       "      <td>99.8</td>\n",
       "      <td>176.6</td>\n",
       "      <td>66.2</td>\n",
       "      <td>54.3</td>\n",
       "      <td>2337</td>\n",
       "      <td>ohc</td>\n",
       "      <td>four</td>\n",
       "      <td>109</td>\n",
       "      <td>mpfi</td>\n",
       "      <td>3.19</td>\n",
       "      <td>3.40</td>\n",
       "      <td>10.0</td>\n",
       "      <td>102</td>\n",
       "      <td>5500</td>\n",
       "      <td>24</td>\n",
       "      <td>30</td>\n",
       "      <td>13950</td>\n",
       "    </tr>\n",
       "    <tr>\n",
       "      <th>3</th>\n",
       "      <td>2</td>\n",
       "      <td>164</td>\n",
       "      <td>audi</td>\n",
       "      <td>gas</td>\n",
       "      <td>std</td>\n",
       "      <td>four</td>\n",
       "      <td>sedan</td>\n",
       "      <td>4wd</td>\n",
       "      <td>front</td>\n",
       "      <td>99.4</td>\n",
       "      <td>176.6</td>\n",
       "      <td>66.4</td>\n",
       "      <td>54.3</td>\n",
       "      <td>2824</td>\n",
       "      <td>ohc</td>\n",
       "      <td>five</td>\n",
       "      <td>136</td>\n",
       "      <td>mpfi</td>\n",
       "      <td>3.19</td>\n",
       "      <td>3.40</td>\n",
       "      <td>8.0</td>\n",
       "      <td>115</td>\n",
       "      <td>5500</td>\n",
       "      <td>18</td>\n",
       "      <td>22</td>\n",
       "      <td>17450</td>\n",
       "    </tr>\n",
       "    <tr>\n",
       "      <th>4</th>\n",
       "      <td>2</td>\n",
       "      <td>?</td>\n",
       "      <td>audi</td>\n",
       "      <td>gas</td>\n",
       "      <td>std</td>\n",
       "      <td>two</td>\n",
       "      <td>sedan</td>\n",
       "      <td>fwd</td>\n",
       "      <td>front</td>\n",
       "      <td>99.8</td>\n",
       "      <td>177.3</td>\n",
       "      <td>66.3</td>\n",
       "      <td>53.1</td>\n",
       "      <td>2507</td>\n",
       "      <td>ohc</td>\n",
       "      <td>five</td>\n",
       "      <td>136</td>\n",
       "      <td>mpfi</td>\n",
       "      <td>3.19</td>\n",
       "      <td>3.40</td>\n",
       "      <td>8.5</td>\n",
       "      <td>110</td>\n",
       "      <td>5500</td>\n",
       "      <td>19</td>\n",
       "      <td>25</td>\n",
       "      <td>15250</td>\n",
       "    </tr>\n",
       "  </tbody>\n",
       "</table>\n",
       "</div>"
      ],
      "text/plain": [
       "   symb normalized-losses     name_car fuel aspiration num-of-doors  \\\n",
       "0     3                 ?  alfa-romero  gas        std          two   \n",
       "1     1                 ?  alfa-romero  gas        std          two   \n",
       "2     2               164         audi  gas        std         four   \n",
       "3     2               164         audi  gas        std         four   \n",
       "4     2                 ?         audi  gas        std          two   \n",
       "\n",
       "    body-style drive-wheels engine-location  wheel-base  length  width  \\\n",
       "0  convertible          rwd           front        88.6   168.8   64.1   \n",
       "1    hatchback          rwd           front        94.5   171.2   65.5   \n",
       "2        sedan          fwd           front        99.8   176.6   66.2   \n",
       "3        sedan          4wd           front        99.4   176.6   66.4   \n",
       "4        sedan          fwd           front        99.8   177.3   66.3   \n",
       "\n",
       "   height  curb-weight engine-type num-of-cylinders  engine-size fuel-system  \\\n",
       "0    48.8         2548        dohc             four          130        mpfi   \n",
       "1    52.4         2823        ohcv              six          152        mpfi   \n",
       "2    54.3         2337         ohc             four          109        mpfi   \n",
       "3    54.3         2824         ohc             five          136        mpfi   \n",
       "4    53.1         2507         ohc             five          136        mpfi   \n",
       "\n",
       "   bore stroke  compression-ratio horsepower peak-rpm  city-mpg  highway-mpg  \\\n",
       "0  3.47   2.68                9.0        111     5000        21           27   \n",
       "1  2.68   3.47                9.0        154     5000        19           26   \n",
       "2  3.19   3.40               10.0        102     5500        24           30   \n",
       "3  3.19   3.40                8.0        115     5500        18           22   \n",
       "4  3.19   3.40                8.5        110     5500        19           25   \n",
       "\n",
       "   price  \n",
       "0  16500  \n",
       "1  16500  \n",
       "2  13950  \n",
       "3  17450  \n",
       "4  15250  "
      ]
     },
     "execution_count": 6,
     "metadata": {},
     "output_type": "execute_result"
    }
   ],
   "source": [
    "cars.head(5)"
   ]
  },
  {
   "cell_type": "code",
   "execution_count": 7,
   "metadata": {
    "collapsed": false
   },
   "outputs": [],
   "source": [
    "numeric_columns = ['normalized-losses', 'wheel-base', 'length', 'width', 'height', 'curb-weight',\n",
    "                   'engine-size', 'bore', 'stroke', 'compression-ratio', 'horsepower', 'peak-rpm',\n",
    "                   'city-mpg', 'highway-mpg', 'price']\n",
    "cars_numeric = cars[numeric_columns]"
   ]
  },
  {
   "cell_type": "markdown",
   "metadata": {},
   "source": [
    "We took new data set from *cars* which had only numeric data."
   ]
  },
  {
   "cell_type": "code",
   "execution_count": 8,
   "metadata": {
    "collapsed": false
   },
   "outputs": [
    {
     "data": {
      "text/html": [
       "<div>\n",
       "<style scoped>\n",
       "    .dataframe tbody tr th:only-of-type {\n",
       "        vertical-align: middle;\n",
       "    }\n",
       "\n",
       "    .dataframe tbody tr th {\n",
       "        vertical-align: top;\n",
       "    }\n",
       "\n",
       "    .dataframe thead th {\n",
       "        text-align: right;\n",
       "    }\n",
       "</style>\n",
       "<table border=\"1\" class=\"dataframe\">\n",
       "  <thead>\n",
       "    <tr style=\"text-align: right;\">\n",
       "      <th></th>\n",
       "      <th>normalized-losses</th>\n",
       "      <th>wheel-base</th>\n",
       "      <th>length</th>\n",
       "      <th>width</th>\n",
       "      <th>height</th>\n",
       "      <th>curb-weight</th>\n",
       "      <th>engine-size</th>\n",
       "      <th>bore</th>\n",
       "      <th>stroke</th>\n",
       "      <th>compression-ratio</th>\n",
       "      <th>horsepower</th>\n",
       "      <th>peak-rpm</th>\n",
       "      <th>city-mpg</th>\n",
       "      <th>highway-mpg</th>\n",
       "      <th>price</th>\n",
       "    </tr>\n",
       "  </thead>\n",
       "  <tbody>\n",
       "    <tr>\n",
       "      <th>0</th>\n",
       "      <td>?</td>\n",
       "      <td>88.6</td>\n",
       "      <td>168.8</td>\n",
       "      <td>64.1</td>\n",
       "      <td>48.8</td>\n",
       "      <td>2548</td>\n",
       "      <td>130</td>\n",
       "      <td>3.47</td>\n",
       "      <td>2.68</td>\n",
       "      <td>9.0</td>\n",
       "      <td>111</td>\n",
       "      <td>5000</td>\n",
       "      <td>21</td>\n",
       "      <td>27</td>\n",
       "      <td>16500</td>\n",
       "    </tr>\n",
       "    <tr>\n",
       "      <th>1</th>\n",
       "      <td>?</td>\n",
       "      <td>94.5</td>\n",
       "      <td>171.2</td>\n",
       "      <td>65.5</td>\n",
       "      <td>52.4</td>\n",
       "      <td>2823</td>\n",
       "      <td>152</td>\n",
       "      <td>2.68</td>\n",
       "      <td>3.47</td>\n",
       "      <td>9.0</td>\n",
       "      <td>154</td>\n",
       "      <td>5000</td>\n",
       "      <td>19</td>\n",
       "      <td>26</td>\n",
       "      <td>16500</td>\n",
       "    </tr>\n",
       "    <tr>\n",
       "      <th>2</th>\n",
       "      <td>164</td>\n",
       "      <td>99.8</td>\n",
       "      <td>176.6</td>\n",
       "      <td>66.2</td>\n",
       "      <td>54.3</td>\n",
       "      <td>2337</td>\n",
       "      <td>109</td>\n",
       "      <td>3.19</td>\n",
       "      <td>3.40</td>\n",
       "      <td>10.0</td>\n",
       "      <td>102</td>\n",
       "      <td>5500</td>\n",
       "      <td>24</td>\n",
       "      <td>30</td>\n",
       "      <td>13950</td>\n",
       "    </tr>\n",
       "  </tbody>\n",
       "</table>\n",
       "</div>"
      ],
      "text/plain": [
       "  normalized-losses  wheel-base  length  width  height  curb-weight  \\\n",
       "0                 ?        88.6   168.8   64.1    48.8         2548   \n",
       "1                 ?        94.5   171.2   65.5    52.4         2823   \n",
       "2               164        99.8   176.6   66.2    54.3         2337   \n",
       "\n",
       "   engine-size  bore stroke  compression-ratio horsepower peak-rpm  city-mpg  \\\n",
       "0          130  3.47   2.68                9.0        111     5000        21   \n",
       "1          152  2.68   3.47                9.0        154     5000        19   \n",
       "2          109  3.19   3.40               10.0        102     5500        24   \n",
       "\n",
       "   highway-mpg  price  \n",
       "0           27  16500  \n",
       "1           26  16500  \n",
       "2           30  13950  "
      ]
     },
     "execution_count": 8,
     "metadata": {},
     "output_type": "execute_result"
    }
   ],
   "source": [
    "cars_numeric.head(3)"
   ]
  },
  {
   "cell_type": "markdown",
   "metadata": {},
   "source": [
    "## Data cleaning"
   ]
  },
  {
   "cell_type": "markdown",
   "metadata": {},
   "source": [
    "Our data set contains missing values such as *'?'*. We need to replace these values and look for the presence of missing values in other numeric columns."
   ]
  },
  {
   "cell_type": "markdown",
   "metadata": {},
   "source": [
    "We'll replace all of '?' values with the `numpy.nan` missing values."
   ]
  },
  {
   "cell_type": "code",
   "execution_count": 9,
   "metadata": {
    "collapsed": false
   },
   "outputs": [
    {
     "data": {
      "text/html": [
       "<div>\n",
       "<style scoped>\n",
       "    .dataframe tbody tr th:only-of-type {\n",
       "        vertical-align: middle;\n",
       "    }\n",
       "\n",
       "    .dataframe tbody tr th {\n",
       "        vertical-align: top;\n",
       "    }\n",
       "\n",
       "    .dataframe thead th {\n",
       "        text-align: right;\n",
       "    }\n",
       "</style>\n",
       "<table border=\"1\" class=\"dataframe\">\n",
       "  <thead>\n",
       "    <tr style=\"text-align: right;\">\n",
       "      <th></th>\n",
       "      <th>normalized-losses</th>\n",
       "      <th>wheel-base</th>\n",
       "      <th>length</th>\n",
       "      <th>width</th>\n",
       "      <th>height</th>\n",
       "      <th>curb-weight</th>\n",
       "      <th>engine-size</th>\n",
       "      <th>bore</th>\n",
       "      <th>stroke</th>\n",
       "      <th>compression-ratio</th>\n",
       "      <th>horsepower</th>\n",
       "      <th>peak-rpm</th>\n",
       "      <th>city-mpg</th>\n",
       "      <th>highway-mpg</th>\n",
       "      <th>price</th>\n",
       "    </tr>\n",
       "  </thead>\n",
       "  <tbody>\n",
       "    <tr>\n",
       "      <th>0</th>\n",
       "      <td>NaN</td>\n",
       "      <td>88.6</td>\n",
       "      <td>168.8</td>\n",
       "      <td>64.1</td>\n",
       "      <td>48.8</td>\n",
       "      <td>2548</td>\n",
       "      <td>130</td>\n",
       "      <td>3.47</td>\n",
       "      <td>2.68</td>\n",
       "      <td>9.0</td>\n",
       "      <td>111</td>\n",
       "      <td>5000</td>\n",
       "      <td>21</td>\n",
       "      <td>27</td>\n",
       "      <td>16500</td>\n",
       "    </tr>\n",
       "    <tr>\n",
       "      <th>1</th>\n",
       "      <td>NaN</td>\n",
       "      <td>94.5</td>\n",
       "      <td>171.2</td>\n",
       "      <td>65.5</td>\n",
       "      <td>52.4</td>\n",
       "      <td>2823</td>\n",
       "      <td>152</td>\n",
       "      <td>2.68</td>\n",
       "      <td>3.47</td>\n",
       "      <td>9.0</td>\n",
       "      <td>154</td>\n",
       "      <td>5000</td>\n",
       "      <td>19</td>\n",
       "      <td>26</td>\n",
       "      <td>16500</td>\n",
       "    </tr>\n",
       "    <tr>\n",
       "      <th>2</th>\n",
       "      <td>164</td>\n",
       "      <td>99.8</td>\n",
       "      <td>176.6</td>\n",
       "      <td>66.2</td>\n",
       "      <td>54.3</td>\n",
       "      <td>2337</td>\n",
       "      <td>109</td>\n",
       "      <td>3.19</td>\n",
       "      <td>3.40</td>\n",
       "      <td>10.0</td>\n",
       "      <td>102</td>\n",
       "      <td>5500</td>\n",
       "      <td>24</td>\n",
       "      <td>30</td>\n",
       "      <td>13950</td>\n",
       "    </tr>\n",
       "  </tbody>\n",
       "</table>\n",
       "</div>"
      ],
      "text/plain": [
       "  normalized-losses  wheel-base  length  width  height  curb-weight  \\\n",
       "0               NaN        88.6   168.8   64.1    48.8         2548   \n",
       "1               NaN        94.5   171.2   65.5    52.4         2823   \n",
       "2               164        99.8   176.6   66.2    54.3         2337   \n",
       "\n",
       "   engine-size  bore stroke  compression-ratio horsepower peak-rpm  city-mpg  \\\n",
       "0          130  3.47   2.68                9.0        111     5000        21   \n",
       "1          152  2.68   3.47                9.0        154     5000        19   \n",
       "2          109  3.19   3.40               10.0        102     5500        24   \n",
       "\n",
       "   highway-mpg  price  \n",
       "0           27  16500  \n",
       "1           26  16500  \n",
       "2           30  13950  "
      ]
     },
     "execution_count": 9,
     "metadata": {},
     "output_type": "execute_result"
    }
   ],
   "source": [
    "cars_numeric = cars_numeric.replace('?', np.nan)\n",
    "cars_numeric.head(3)"
   ]
  },
  {
   "cell_type": "markdown",
   "metadata": {},
   "source": [
    "Some columns need to be converted to numeric type."
   ]
  },
  {
   "cell_type": "code",
   "execution_count": 10,
   "metadata": {
    "collapsed": false
   },
   "outputs": [
    {
     "data": {
      "text/plain": [
       "normalized-losses    40\n",
       "wheel-base            0\n",
       "length                0\n",
       "width                 0\n",
       "height                0\n",
       "curb-weight           0\n",
       "engine-size           0\n",
       "bore                  4\n",
       "stroke                4\n",
       "compression-ratio     0\n",
       "horsepower            2\n",
       "peak-rpm              2\n",
       "city-mpg              0\n",
       "highway-mpg           0\n",
       "price                 4\n",
       "dtype: int64"
      ]
     },
     "execution_count": 10,
     "metadata": {},
     "output_type": "execute_result"
    }
   ],
   "source": [
    "cars_numeric = cars_numeric.astype('float')\n",
    "cars_numeric.isnull().sum()"
   ]
  },
  {
   "cell_type": "markdown",
   "metadata": {},
   "source": [
    "We'll remove any rows with missing *price* values because column *price* is needed to predict the price."
   ]
  },
  {
   "cell_type": "code",
   "execution_count": 11,
   "metadata": {
    "collapsed": false
   },
   "outputs": [
    {
     "data": {
      "text/plain": [
       "normalized-losses    36\n",
       "wheel-base            0\n",
       "length                0\n",
       "width                 0\n",
       "height                0\n",
       "curb-weight           0\n",
       "engine-size           0\n",
       "bore                  4\n",
       "stroke                4\n",
       "compression-ratio     0\n",
       "horsepower            2\n",
       "peak-rpm              2\n",
       "city-mpg              0\n",
       "highway-mpg           0\n",
       "price                 0\n",
       "dtype: int64"
      ]
     },
     "execution_count": 11,
     "metadata": {},
     "output_type": "execute_result"
    }
   ],
   "source": [
    "cars_numeric = cars_numeric.dropna(subset=['price'])\n",
    "cars_numeric.isnull().sum()"
   ]
  },
  {
   "cell_type": "markdown",
   "metadata": {},
   "source": [
    "We'll replace the remaining missing values using the average values from the columns."
   ]
  },
  {
   "cell_type": "code",
   "execution_count": 12,
   "metadata": {
    "collapsed": true
   },
   "outputs": [],
   "source": [
    "cars_numeric = cars_numeric.fillna(cars_numeric.mean())"
   ]
  },
  {
   "cell_type": "code",
   "execution_count": 13,
   "metadata": {
    "collapsed": false
   },
   "outputs": [
    {
     "data": {
      "text/plain": [
       "normalized-losses    0\n",
       "wheel-base           0\n",
       "length               0\n",
       "width                0\n",
       "height               0\n",
       "curb-weight          0\n",
       "engine-size          0\n",
       "bore                 0\n",
       "stroke               0\n",
       "compression-ratio    0\n",
       "horsepower           0\n",
       "peak-rpm             0\n",
       "city-mpg             0\n",
       "highway-mpg          0\n",
       "price                0\n",
       "dtype: int64"
      ]
     },
     "execution_count": 13,
     "metadata": {},
     "output_type": "execute_result"
    }
   ],
   "source": [
    "cars_numeric.isnull().sum()"
   ]
  },
  {
   "cell_type": "markdown",
   "metadata": {},
   "source": [
    "Now we'll normalize the numeric columns so all values range from 0 to 1."
   ]
  },
  {
   "cell_type": "code",
   "execution_count": 14,
   "metadata": {
    "collapsed": false
   },
   "outputs": [],
   "source": [
    "price = cars_numeric['price']\n",
    "cars_numeric = (cars_numeric - cars_numeric.min()) / (cars_numeric.max() - cars_numeric.min())\n",
    "cars_numeric['price'] = price"
   ]
  },
  {
   "cell_type": "code",
   "execution_count": 15,
   "metadata": {
    "collapsed": false
   },
   "outputs": [
    {
     "data": {
      "text/html": [
       "<div>\n",
       "<style scoped>\n",
       "    .dataframe tbody tr th:only-of-type {\n",
       "        vertical-align: middle;\n",
       "    }\n",
       "\n",
       "    .dataframe tbody tr th {\n",
       "        vertical-align: top;\n",
       "    }\n",
       "\n",
       "    .dataframe thead th {\n",
       "        text-align: right;\n",
       "    }\n",
       "</style>\n",
       "<table border=\"1\" class=\"dataframe\">\n",
       "  <thead>\n",
       "    <tr style=\"text-align: right;\">\n",
       "      <th></th>\n",
       "      <th>normalized-losses</th>\n",
       "      <th>wheel-base</th>\n",
       "      <th>length</th>\n",
       "      <th>width</th>\n",
       "      <th>height</th>\n",
       "      <th>curb-weight</th>\n",
       "      <th>engine-size</th>\n",
       "      <th>bore</th>\n",
       "      <th>stroke</th>\n",
       "      <th>compression-ratio</th>\n",
       "      <th>horsepower</th>\n",
       "      <th>peak-rpm</th>\n",
       "      <th>city-mpg</th>\n",
       "      <th>highway-mpg</th>\n",
       "      <th>price</th>\n",
       "    </tr>\n",
       "  </thead>\n",
       "  <tbody>\n",
       "    <tr>\n",
       "      <th>0</th>\n",
       "      <td>0.298429</td>\n",
       "      <td>0.058309</td>\n",
       "      <td>0.413433</td>\n",
       "      <td>0.324786</td>\n",
       "      <td>0.083333</td>\n",
       "      <td>0.411171</td>\n",
       "      <td>0.260377</td>\n",
       "      <td>0.664286</td>\n",
       "      <td>0.290476</td>\n",
       "      <td>0.12500</td>\n",
       "      <td>0.294393</td>\n",
       "      <td>0.346939</td>\n",
       "      <td>0.222222</td>\n",
       "      <td>0.289474</td>\n",
       "      <td>16500.0</td>\n",
       "    </tr>\n",
       "    <tr>\n",
       "      <th>1</th>\n",
       "      <td>0.298429</td>\n",
       "      <td>0.230321</td>\n",
       "      <td>0.449254</td>\n",
       "      <td>0.444444</td>\n",
       "      <td>0.383333</td>\n",
       "      <td>0.517843</td>\n",
       "      <td>0.343396</td>\n",
       "      <td>0.100000</td>\n",
       "      <td>0.666667</td>\n",
       "      <td>0.12500</td>\n",
       "      <td>0.495327</td>\n",
       "      <td>0.346939</td>\n",
       "      <td>0.166667</td>\n",
       "      <td>0.263158</td>\n",
       "      <td>16500.0</td>\n",
       "    </tr>\n",
       "    <tr>\n",
       "      <th>2</th>\n",
       "      <td>0.518325</td>\n",
       "      <td>0.384840</td>\n",
       "      <td>0.529851</td>\n",
       "      <td>0.504274</td>\n",
       "      <td>0.541667</td>\n",
       "      <td>0.329325</td>\n",
       "      <td>0.181132</td>\n",
       "      <td>0.464286</td>\n",
       "      <td>0.633333</td>\n",
       "      <td>0.18750</td>\n",
       "      <td>0.252336</td>\n",
       "      <td>0.551020</td>\n",
       "      <td>0.305556</td>\n",
       "      <td>0.368421</td>\n",
       "      <td>13950.0</td>\n",
       "    </tr>\n",
       "    <tr>\n",
       "      <th>3</th>\n",
       "      <td>0.518325</td>\n",
       "      <td>0.373178</td>\n",
       "      <td>0.529851</td>\n",
       "      <td>0.521368</td>\n",
       "      <td>0.541667</td>\n",
       "      <td>0.518231</td>\n",
       "      <td>0.283019</td>\n",
       "      <td>0.464286</td>\n",
       "      <td>0.633333</td>\n",
       "      <td>0.06250</td>\n",
       "      <td>0.313084</td>\n",
       "      <td>0.551020</td>\n",
       "      <td>0.138889</td>\n",
       "      <td>0.157895</td>\n",
       "      <td>17450.0</td>\n",
       "    </tr>\n",
       "    <tr>\n",
       "      <th>4</th>\n",
       "      <td>0.298429</td>\n",
       "      <td>0.384840</td>\n",
       "      <td>0.540299</td>\n",
       "      <td>0.512821</td>\n",
       "      <td>0.441667</td>\n",
       "      <td>0.395268</td>\n",
       "      <td>0.283019</td>\n",
       "      <td>0.464286</td>\n",
       "      <td>0.633333</td>\n",
       "      <td>0.09375</td>\n",
       "      <td>0.289720</td>\n",
       "      <td>0.551020</td>\n",
       "      <td>0.166667</td>\n",
       "      <td>0.236842</td>\n",
       "      <td>15250.0</td>\n",
       "    </tr>\n",
       "  </tbody>\n",
       "</table>\n",
       "</div>"
      ],
      "text/plain": [
       "   normalized-losses  wheel-base    length     width    height  curb-weight  \\\n",
       "0           0.298429    0.058309  0.413433  0.324786  0.083333     0.411171   \n",
       "1           0.298429    0.230321  0.449254  0.444444  0.383333     0.517843   \n",
       "2           0.518325    0.384840  0.529851  0.504274  0.541667     0.329325   \n",
       "3           0.518325    0.373178  0.529851  0.521368  0.541667     0.518231   \n",
       "4           0.298429    0.384840  0.540299  0.512821  0.441667     0.395268   \n",
       "\n",
       "   engine-size      bore    stroke  compression-ratio  horsepower  peak-rpm  \\\n",
       "0     0.260377  0.664286  0.290476            0.12500    0.294393  0.346939   \n",
       "1     0.343396  0.100000  0.666667            0.12500    0.495327  0.346939   \n",
       "2     0.181132  0.464286  0.633333            0.18750    0.252336  0.551020   \n",
       "3     0.283019  0.464286  0.633333            0.06250    0.313084  0.551020   \n",
       "4     0.283019  0.464286  0.633333            0.09375    0.289720  0.551020   \n",
       "\n",
       "   city-mpg  highway-mpg    price  \n",
       "0  0.222222     0.289474  16500.0  \n",
       "1  0.166667     0.263158  16500.0  \n",
       "2  0.305556     0.368421  13950.0  \n",
       "3  0.138889     0.157895  17450.0  \n",
       "4  0.166667     0.236842  15250.0  "
      ]
     },
     "execution_count": 15,
     "metadata": {},
     "output_type": "execute_result"
    }
   ],
   "source": [
    "cars_numeric.head(5)"
   ]
  },
  {
   "cell_type": "markdown",
   "metadata": {},
   "source": [
    "## Univariate Model"
   ]
  },
  {
   "cell_type": "markdown",
   "metadata": {},
   "source": [
    "We'll create a fuction that encapsulates the training and simple validation process. The function will have 3 parameters - training column name, target column name, and the dataframe object."
   ]
  },
  {
   "cell_type": "code",
   "execution_count": 16,
   "metadata": {
    "collapsed": false
   },
   "outputs": [],
   "source": [
    "def knn_train_test(train_column, target_column, df):\n",
    "    knn = KNeighborsRegressor()\n",
    "    np.random.seed(1)\n",
    "    random_index = np.random.permutation(df.index)\n",
    "    df = df.reindex(random_index)\n",
    "    idx = len(df) // 2\n",
    "    train = df.iloc[:idx]\n",
    "    test = df.iloc[idx:]\n",
    "    \n",
    "    knn.fit(train[[train_column]],train[target_column])\n",
    "    prediction = knn.predict(test[[train_column]])\n",
    "    mse = mean_squared_error(test[target_column], prediction)\n",
    "    rmse = mse ** 0.5\n",
    "    return rmse\n",
    "    \n"
   ]
  },
  {
   "cell_type": "markdown",
   "metadata": {},
   "source": [
    "We'll train and test univariate models using the different numeric columns in the data set."
   ]
  },
  {
   "cell_type": "code",
   "execution_count": 17,
   "metadata": {
    "collapsed": false
   },
   "outputs": [],
   "source": [
    "rmse_columns = {}\n",
    "columns = cars_numeric.columns.drop('price')\n",
    "for i in columns:\n",
    "    rmse = knn_train_test(i, 'price', cars_numeric)\n",
    "    rmse_columns[i] = rmse"
   ]
  },
  {
   "cell_type": "code",
   "execution_count": 18,
   "metadata": {
    "collapsed": false
   },
   "outputs": [
    {
     "name": "stdout",
     "output_type": "stream",
     "text": [
      "{'compression-ratio': 7193.5885991346495, 'wheel-base': 5443.857347028851, 'peak-rpm': 6458.378473332141, 'height': 7380.628859304605, 'engine-size': 3247.180990459263, 'stroke': 8184.186085763203, 'city-mpg': 3813.193148373158, 'horsepower': 4456.175620282486, 'highway-mpg': 3737.1620469013646, 'length': 5150.4491768776825, 'normalized-losses': 8291.523385820003, 'curb-weight': 3439.4916393560256, 'width': 3773.135498600601, 'bore': 6206.9245622933095}\n"
     ]
    }
   ],
   "source": [
    "print (rmse_columns)"
   ]
  },
  {
   "cell_type": "markdown",
   "metadata": {},
   "source": [
    "To create the Series object from dictionary."
   ]
  },
  {
   "cell_type": "code",
   "execution_count": 19,
   "metadata": {
    "collapsed": false
   },
   "outputs": [
    {
     "data": {
      "text/plain": [
       "engine-size          3247.180990\n",
       "curb-weight          3439.491639\n",
       "highway-mpg          3737.162047\n",
       "width                3773.135499\n",
       "city-mpg             3813.193148\n",
       "horsepower           4456.175620\n",
       "length               5150.449177\n",
       "wheel-base           5443.857347\n",
       "bore                 6206.924562\n",
       "peak-rpm             6458.378473\n",
       "compression-ratio    7193.588599\n",
       "height               7380.628859\n",
       "stroke               8184.186086\n",
       "normalized-losses    8291.523386\n",
       "dtype: float64"
      ]
     },
     "execution_count": 19,
     "metadata": {},
     "output_type": "execute_result"
    }
   ],
   "source": [
    "rmse_series = pd.Series(rmse_columns)\n",
    "rmse_series.sort_values()"
   ]
  },
  {
   "cell_type": "markdown",
   "metadata": {
    "collapsed": true
   },
   "source": [
    "Now we'll modify the function *knn_train_test* by adding parameter for *k*."
   ]
  },
  {
   "cell_type": "code",
   "execution_count": 20,
   "metadata": {
    "collapsed": true
   },
   "outputs": [],
   "source": [
    "def knn_train_test(train_column, target_column, df):\n",
    "    rmse = {}\n",
    "    np.random.seed(1)\n",
    "    random_index = np.random.permutation(df.index)\n",
    "    df = df.reindex(random_index)\n",
    "    idx = len(df) // 2\n",
    "    train = df.iloc[:idx]\n",
    "    test = df.iloc[idx:]\n",
    "    k_values = [1,3,5,7,9]\n",
    "    for i in k_values:\n",
    "        knn = KNeighborsRegressor(n_neighbors=i)\n",
    "        knn.fit(train[[train_column]],train[target_column])\n",
    "        prediction = knn.predict(test[[train_column]])\n",
    "        mse = mean_squared_error(test[target_column], prediction)\n",
    "        rmse[i] = mse ** 0.5\n",
    "    return rmse\n",
    "    "
   ]
  },
  {
   "cell_type": "code",
   "execution_count": 21,
   "metadata": {
    "collapsed": false
   },
   "outputs": [],
   "source": [
    "k_rmse = {}\n",
    "columns = cars_numeric.columns.drop('price')\n",
    "for i in columns:\n",
    "    rmse = knn_train_test(i, 'price', cars_numeric)\n",
    "    k_rmse[i] = rmse\n"
   ]
  },
  {
   "cell_type": "code",
   "execution_count": 22,
   "metadata": {
    "collapsed": false
   },
   "outputs": [
    {
     "data": {
      "text/plain": [
       "{'bore': {1: 5926.514010782393,\n",
       "  3: 5927.911351770069,\n",
       "  5: 6206.9245622933095,\n",
       "  7: 6239.1231894606235,\n",
       "  9: 6407.868283419558},\n",
       " 'city-mpg': {1: 4170.034286429789,\n",
       "  3: 3438.0091973569693,\n",
       "  5: 3813.193148373158,\n",
       "  7: 3706.737982542668,\n",
       "  9: 3811.0390099593706},\n",
       " 'compression-ratio': {1: 7344.202947903877,\n",
       "  3: 5943.417906577177,\n",
       "  5: 7193.5885991346495,\n",
       "  7: 7540.580427735179,\n",
       "  9: 7180.410828835924},\n",
       " 'curb-weight': {1: 4390.877922466076,\n",
       "  3: 3668.3589437240184,\n",
       "  5: 3439.4916393560256,\n",
       "  7: 3174.0695108639184,\n",
       "  9: 3373.692477825783},\n",
       " 'engine-size': {1: 3398.1555291069303,\n",
       "  3: 3143.6417681833063,\n",
       "  5: 3247.180990459263,\n",
       "  7: 3058.254836187008,\n",
       "  9: 3141.6475726897906},\n",
       " 'height': {1: 10910.35914761746,\n",
       "  3: 7805.349593138741,\n",
       "  5: 7380.628859304605,\n",
       "  7: 7272.536203121596,\n",
       "  9: 7121.205659190993},\n",
       " 'highway-mpg': {1: 3667.7066335790814,\n",
       "  3: 3602.7490403548477,\n",
       "  5: 3737.1620469013646,\n",
       "  7: 3963.0230166902043,\n",
       "  9: 3972.4730855050143},\n",
       " 'horsepower': {1: 4183.096630487993,\n",
       "  3: 4176.022383933198,\n",
       "  5: 4456.175620282486,\n",
       "  7: 4658.0497482468845,\n",
       "  9: 4591.4584980438685},\n",
       " 'length': {1: 6487.918747179253,\n",
       "  3: 6134.085873035833,\n",
       "  5: 5150.4491768776825,\n",
       "  7: 4982.967035383064,\n",
       "  9: 4931.887957197089},\n",
       " 'normalized-losses': {1: 7326.341301768571,\n",
       "  3: 6986.552764895337,\n",
       "  5: 8291.523385820003,\n",
       "  7: 7708.952227449723,\n",
       "  9: 7942.7827438607965},\n",
       " 'peak-rpm': {1: 8792.216444674234,\n",
       "  3: 7080.746020410247,\n",
       "  5: 6458.378473332141,\n",
       "  7: 6544.40112284804,\n",
       "  9: 6686.435851634613},\n",
       " 'stroke': {1: 6674.97957524965,\n",
       "  3: 6907.209119141793,\n",
       "  5: 8184.186085763203,\n",
       "  7: 8641.925187026514,\n",
       "  9: 7880.150619925742},\n",
       " 'wheel-base': {1: 4616.855696250425,\n",
       "  3: 5242.4142516168595,\n",
       "  5: 5443.857347028851,\n",
       "  7: 5509.9977571942545,\n",
       "  9: 5435.529878198641},\n",
       " 'width': {1: 5713.616311059048,\n",
       "  3: 4175.369845095562,\n",
       "  5: 3773.135498600601,\n",
       "  7: 3486.0353809367534,\n",
       "  9: 3508.8770012640794}}"
      ]
     },
     "execution_count": 22,
     "metadata": {},
     "output_type": "execute_result"
    }
   ],
   "source": [
    "k_rmse"
   ]
  },
  {
   "cell_type": "markdown",
   "metadata": {},
   "source": [
    "We'll visualize the results using a scatter plot."
   ]
  },
  {
   "cell_type": "code",
   "execution_count": 23,
   "metadata": {
    "collapsed": false
   },
   "outputs": [
    {
     "data": {
      "image/png": "[encoded data removed]",
      "text/plain": [
       "<matplotlib.figure.Figure at 0x7fb0f5064710>"
      ]
     },
     "metadata": {},
     "output_type": "display_data"
    }
   ],
   "source": [
    "%matplotlib inline\n",
    "for k,v in k_rmse.items():\n",
    "    x = list(v.keys())\n",
    "    y = list(v.values())\n",
    "    \n",
    "    plt.scatter(x,y)\n",
    "    plt.xlabel('k value')\n",
    "    plt.ylabel('RMSE')\n",
    "  \n"
   ]
  },
  {
   "cell_type": "code",
   "execution_count": 24,
   "metadata": {
    "collapsed": false
   },
   "outputs": [
    {
     "data": {
      "image/png": "[encoded data removed]",
      "text/plain": [
       "<matplotlib.figure.Figure at 0x7fb0f2fc91d0>"
      ]
     },
     "metadata": {},
     "output_type": "display_data"
    }
   ],
   "source": [
    "for k,v in k_rmse.items():\n",
    "    x = list(v.keys())\n",
    "    y = list(v.values())\n",
    "    \n",
    "    plt.plot(x,y)\n",
    "    plt.xlabel('k value')\n",
    "    plt.ylabel('RMSE')"
   ]
  },
  {
   "cell_type": "markdown",
   "metadata": {
    "collapsed": true
   },
   "source": [
    "## Multivariate Model"
   ]
  },
  {
   "cell_type": "markdown",
   "metadata": {},
   "source": [
    "We'll compute average RMSE for different *k* values for each features. "
   ]
  },
  {
   "cell_type": "code",
   "execution_count": 32,
   "metadata": {
    "collapsed": false
   },
   "outputs": [
    {
     "name": "stdout",
     "output_type": "stream",
     "text": [
      "engine-size          3197.776139\n",
      "curb-weight          3609.298099\n",
      "city-mpg             3787.802725\n",
      "highway-mpg          3788.622765\n",
      "width                4131.406807\n",
      "horsepower           4412.960576\n",
      "wheel-base           5249.730986\n",
      "length               5537.461758\n",
      "bore                 6141.668280\n",
      "compression-ratio    7040.440142\n",
      "peak-rpm             7112.435583\n",
      "normalized-losses    7651.230485\n",
      "stroke               7657.690117\n",
      "height               8098.015892\n",
      "dtype: float64\n"
     ]
    }
   ],
   "source": [
    "average_rmse = {}\n",
    "for k,v in k_rmse.items():\n",
    "    avg = np.mean(list(v.values()))\n",
    "    average_rmse[k] = avg\n",
    "    \n",
    "series_avg_rmse = pd.Series(average_rmse)\n",
    "series_avg_rmse = series_avg_rmse.sort_values()\n",
    "print (series_avg_rmse)\n",
    "choose_features = series_avg_rmse.index"
   ]
  },
  {
   "cell_type": "code",
   "execution_count": 33,
   "metadata": {
    "collapsed": false
   },
   "outputs": [
    {
     "data": {
      "text/plain": [
       "Index(['engine-size', 'curb-weight', 'city-mpg', 'highway-mpg', 'width',\n",
       "       'horsepower', 'wheel-base', 'length', 'bore', 'compression-ratio',\n",
       "       'peak-rpm', 'normalized-losses', 'stroke', 'height'],\n",
       "      dtype='object')"
      ]
     },
     "execution_count": 33,
     "metadata": {},
     "output_type": "execute_result"
    }
   ],
   "source": [
    "choose_features"
   ]
  },
  {
   "cell_type": "markdown",
   "metadata": {},
   "source": [
    "We'll modify the *knn_train_test()* function to work with multiple columns."
   ]
  },
  {
   "cell_type": "code",
   "execution_count": 40,
   "metadata": {
    "collapsed": true
   },
   "outputs": [],
   "source": [
    "def knn_train_test(train_column, target_column, df):\n",
    "    rmse = {}\n",
    "    np.random.seed(1)\n",
    "    random_index = np.random.permutation(df.index)\n",
    "    df = df.reindex(random_index)\n",
    "    idx = len(df) // 2\n",
    "    train = df.iloc[:idx]\n",
    "    test = df.iloc[idx:]\n",
    "# we train and test model using default k=5    \n",
    "    k_values = 5\n",
    "   \n",
    "    #for i in k_values:\n",
    "        \n",
    "    knn = KNeighborsRegressor(n_neighbors=k_values)\n",
    "    knn.fit(train[train_column],train[target_column])\n",
    "    prediction = knn.predict(test[train_column])\n",
    "    mse = mean_squared_error(test[target_column], prediction)\n",
    "    rmse[k_values] = mse ** 0.5\n",
    "        \n",
    "    return rmse"
   ]
  },
  {
   "cell_type": "code",
   "execution_count": 41,
   "metadata": {
    "collapsed": false
   },
   "outputs": [],
   "source": [
    "features_rmse = {}\n",
    "\n",
    "for features in range(2,7):\n",
    "    features_rmse['{} features'.format(features)] = knn_train_test(choose_features[:features],\n",
    "                                                                  'price', cars_numeric) \n",
    "    "
   ]
  },
  {
   "cell_type": "code",
   "execution_count": 42,
   "metadata": {
    "collapsed": false
   },
   "outputs": [
    {
     "data": {
      "text/plain": [
       "{'2 features': {5: 2776.7887244801323},\n",
       " '3 features': {5: 3007.3486027396293},\n",
       " '4 features': {5: 3207.3124028694183},\n",
       " '5 features': {5: 2660.144132034954},\n",
       " '6 features': {5: 2725.7622112722893}}"
      ]
     },
     "execution_count": 42,
     "metadata": {},
     "output_type": "execute_result"
    }
   ],
   "source": [
    "features_rmse"
   ]
  },
  {
   "cell_type": "markdown",
   "metadata": {},
   "source": [
    "## Hyperparameter Tuning"
   ]
  },
  {
   "cell_type": "markdown",
   "metadata": {},
   "source": [
    "Now we'll otmimize the model for hyperparameter from 1 to 25."
   ]
  },
  {
   "cell_type": "code",
   "execution_count": 47,
   "metadata": {
    "collapsed": true
   },
   "outputs": [],
   "source": [
    "def knn_train_test(train_column, target_column, df):\n",
    "    rmse = {}\n",
    "    np.random.seed(1)\n",
    "    random_index = np.random.permutation(df.index)\n",
    "    df = df.reindex(random_index)\n",
    "    idx = len(df) // 2\n",
    "    train = df.iloc[:idx]\n",
    "    test = df.iloc[idx:]\n",
    " \n",
    "    k_values = [i for i in range(1,26)]\n",
    "   \n",
    "    for i in k_values:\n",
    "        knn = KNeighborsRegressor(n_neighbors=i)\n",
    "        knn.fit(train[train_column],train[target_column])\n",
    "        prediction = knn.predict(test[train_column])\n",
    "        mse = mean_squared_error(test[target_column], prediction)\n",
    "        rmse[i] = mse ** 0.5\n",
    "        \n",
    "    return rmse"
   ]
  },
  {
   "cell_type": "code",
   "execution_count": 48,
   "metadata": {
    "collapsed": false
   },
   "outputs": [],
   "source": [
    "features_rmse = {}\n",
    "\n",
    "for features in range(2,7):\n",
    "    features_rmse['{} features'.format(features)] = knn_train_test(choose_features[:features],\n",
    "                                                                  'price', cars_numeric) "
   ]
  },
  {
   "cell_type": "code",
   "execution_count": 49,
   "metadata": {
    "collapsed": false
   },
   "outputs": [
    {
     "data": {
      "text/plain": [
       "{'2 features': {1: 3405.0011057266925,\n",
       "  2: 2806.815926009399,\n",
       "  3: 2832.046659416315,\n",
       "  4: 2755.885691343166,\n",
       "  5: 2776.7887244801323,\n",
       "  6: 2845.331496943722,\n",
       "  7: 2939.963979267051,\n",
       "  8: 3090.0602294645896,\n",
       "  9: 3287.39623079902,\n",
       "  10: 3425.1888036865944,\n",
       "  11: 3584.4292620828824,\n",
       "  12: 3635.5259878023303,\n",
       "  13: 3663.6037412497835,\n",
       "  14: 3664.5333259279732,\n",
       "  15: 3681.5923927742647,\n",
       "  16: 3707.625229104499,\n",
       "  17: 3740.66261656526,\n",
       "  18: 3711.4044350521394,\n",
       "  19: 3747.9428945198347,\n",
       "  20: 3731.3753714046247,\n",
       "  21: 3721.4542332692286,\n",
       "  22: 3754.542140976416,\n",
       "  23: 3768.9635970788922,\n",
       "  24: 3805.6710862613386,\n",
       "  25: 3838.1666278221946},\n",
       " '3 features': {1: 2777.6202422217475,\n",
       "  2: 2606.028364197136,\n",
       "  3: 2804.9334531618865,\n",
       "  4: 2973.8428185388348,\n",
       "  5: 3007.3486027396293,\n",
       "  6: 3164.6180440931576,\n",
       "  7: 3320.9176540989574,\n",
       "  8: 3227.3661070455346,\n",
       "  9: 3222.521540580632,\n",
       "  10: 3381.7607558637264,\n",
       "  11: 3514.6647126805688,\n",
       "  12: 3478.188779838502,\n",
       "  13: 3467.197769280226,\n",
       "  14: 3425.761838598229,\n",
       "  15: 3481.529833666676,\n",
       "  16: 3526.896765217264,\n",
       "  17: 3561.375357409941,\n",
       "  18: 3554.9756094603554,\n",
       "  19: 3567.7774424939935,\n",
       "  20: 3613.753863906616,\n",
       "  21: 3681.0256070089736,\n",
       "  22: 3750.5443211674387,\n",
       "  23: 3799.0855320622077,\n",
       "  24: 3840.076380126876,\n",
       "  25: 3927.030598603479},\n",
       " '4 features': {1: 2529.340951710544,\n",
       "  2: 2436.186306504492,\n",
       "  3: 2687.3420515859575,\n",
       "  4: 2989.4850845296082,\n",
       "  5: 3207.3124028694183,\n",
       "  6: 3187.658615138495,\n",
       "  7: 3342.420111572586,\n",
       "  8: 3452.2646675542924,\n",
       "  9: 3475.2990461076215,\n",
       "  10: 3412.5260449702064,\n",
       "  11: 3481.768141546419,\n",
       "  12: 3439.445060798326,\n",
       "  13: 3531.680591865377,\n",
       "  14: 3545.3753213639784,\n",
       "  15: 3514.4673998835788,\n",
       "  16: 3513.495642235495,\n",
       "  17: 3544.4984960272022,\n",
       "  18: 3582.156354349454,\n",
       "  19: 3589.1096218099033,\n",
       "  20: 3626.070050398917,\n",
       "  21: 3692.6729254840825,\n",
       "  22: 3780.1229827849966,\n",
       "  23: 3860.1202751617157,\n",
       "  24: 3911.206890400186,\n",
       "  25: 3952.540264055004},\n",
       " '5 features': {1: 2520.631347500066,\n",
       "  2: 2485.4355156591773,\n",
       "  3: 2763.9154195934916,\n",
       "  4: 2686.6582848168464,\n",
       "  5: 2660.144132034954,\n",
       "  6: 2600.58531392454,\n",
       "  7: 2688.8790008523047,\n",
       "  8: 2639.4963255917783,\n",
       "  9: 2800.6577554805467,\n",
       "  10: 2959.364188064727,\n",
       "  11: 3122.290167118673,\n",
       "  12: 3282.190204567422,\n",
       "  13: 3428.774639756408,\n",
       "  14: 3489.746757536239,\n",
       "  15: 3609.77239905479,\n",
       "  16: 3682.175611900524,\n",
       "  17: 3709.2126092691487,\n",
       "  18: 3761.0485768435037,\n",
       "  19: 3830.139389636404,\n",
       "  20: 3848.204112949962,\n",
       "  21: 3917.2545706083974,\n",
       "  22: 3954.1214636473746,\n",
       "  23: 4011.3923030465867,\n",
       "  24: 4056.2210950690715,\n",
       "  25: 4083.7093746151913},\n",
       " '6 features': {1: 2563.2414127428574,\n",
       "  2: 2976.7188030615184,\n",
       "  3: 2864.821139462482,\n",
       "  4: 2780.6343861383502,\n",
       "  5: 2725.7622112722893,\n",
       "  6: 2790.286754479228,\n",
       "  7: 2845.300704096966,\n",
       "  8: 2923.972272119727,\n",
       "  9: 3046.308082633959,\n",
       "  10: 3126.48102916042,\n",
       "  11: 3312.1706270801574,\n",
       "  12: 3419.569347926399,\n",
       "  13: 3513.6050055841893,\n",
       "  14: 3672.3100897466575,\n",
       "  15: 3783.250407496472,\n",
       "  16: 3840.340471076629,\n",
       "  17: 3916.508059991609,\n",
       "  18: 3914.700284922411,\n",
       "  19: 3932.701860953461,\n",
       "  20: 3983.7420552352537,\n",
       "  21: 4041.690783747387,\n",
       "  22: 4078.5351464244895,\n",
       "  23: 4070.2112814348898,\n",
       "  24: 4062.185779004003,\n",
       "  25: 4142.770347815095}}"
      ]
     },
     "execution_count": 49,
     "metadata": {},
     "output_type": "execute_result"
    }
   ],
   "source": [
    "features_rmse"
   ]
  },
  {
   "cell_type": "markdown",
   "metadata": {},
   "source": [
    "We'll plot the resulting RMSE values."
   ]
  },
  {
   "cell_type": "code",
   "execution_count": 50,
   "metadata": {
    "collapsed": false
   },
   "outputs": [
    {
     "data": {
      "text/plain": [
       "<matplotlib.legend.Legend at 0x7fb0f2f7a240>"
      ]
     },
     "execution_count": 50,
     "metadata": {},
     "output_type": "execute_result"
    },
    {
     "data": {
      "image/png": "[encoded data removed]",
      "text/plain": [
       "<matplotlib.figure.Figure at 0x7fb0f2f7ad68>"
      ]
     },
     "metadata": {},
     "output_type": "display_data"
    }
   ],
   "source": [
    "for k,v in features_rmse.items():\n",
    "    x = list(v.keys())\n",
    "    y = list(v.values())  \n",
    "    plt.plot(x,y, label=\"{}\".format(k))\n",
    "    \n",
    "plt.xlabel('k value')\n",
    "plt.ylabel('RMSE')\n",
    "plt.legend()"
   ]
  },
  {
   "cell_type": "markdown",
   "metadata": {},
   "source": [
    "Parameter *k* with a value about 2 is optimal for models with 2,3,4,5 features. Model with 6 features has optimal k = 1.\n",
    "In this case, an increase in the number of features doesn't lead to decrease RMSE."
   ]
  },
  {
   "cell_type": "markdown",
   "metadata": {},
   "source": [
    "Our optimal model is for k = 2 and for 4 features (engine-size', 'curb-weight', 'city-mpg', 'highway-mpg')."
   ]
  },
  {
   "cell_type": "code",
   "execution_count": null,
   "metadata": {
    "collapsed": true
   },
   "outputs": [],
   "source": []
  }
 ],
 "metadata": {
  "kernelspec": {
   "display_name": "Python 3",
   "language": "python",
   "name": "python3"
  },
  "language_info": {
   "codemirror_mode": {
    "name": "ipython",
    "version": 3
   },
   "file_extension": ".py",
   "mimetype": "text/x-python",
   "name": "python",
   "nbconvert_exporter": "python",
   "pygments_lexer": "ipython3",
   "version": "3.4.3"
  }
 },
 "nbformat": 4,
 "nbformat_minor": 2
}
